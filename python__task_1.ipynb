{
  "nbformat": 4,
  "nbformat_minor": 0,
  "metadata": {
    "colab": {
      "provenance": [],
      "gpuType": "T4",
      "authorship_tag": "ABX9TyPFRMk9JUteYNR4UZQdkwaF",
      "include_colab_link": true
    },
    "kernelspec": {
      "name": "python3",
      "display_name": "Python 3"
    },
    "language_info": {
      "name": "python"
    },
    "accelerator": "GPU"
  },
  "cells": [
    {
      "cell_type": "markdown",
      "metadata": {
        "id": "view-in-github",
        "colab_type": "text"
      },
      "source": [
        "<a href=\"https://colab.research.google.com/github/sathyasrinivasan2002/submissions/blob/main/python__task_1.ipynb\" target=\"_parent\"><img src=\"https://colab.research.google.com/assets/colab-badge.svg\" alt=\"Open In Colab\"/></a>"
      ]
    },
    {
      "cell_type": "code",
      "execution_count": null,
      "metadata": {
        "colab": {
          "base_uri": "https://localhost:8080/"
        },
        "id": "pB2pMBe1SXDY",
        "outputId": "2f73b69e-b6bb-4a70-c7c0-227b93930e09"
      },
      "outputs": [
        {
          "output_type": "stream",
          "name": "stdout",
          "text": [
            "id_2    801    802    803    804    805    806    807    808    809    821  \\\n",
            "id_1                                                                         \n",
            "801    0.00   2.80   6.00   7.70  11.70  13.40  16.90  19.60  21.00  23.52   \n",
            "802    2.80   0.00   3.40   5.20   9.20  10.90  14.30  17.10  18.50  20.92   \n",
            "803    6.00   3.40   0.00   2.00   6.00   7.70  11.10  13.90  15.30  17.72   \n",
            "804    7.70   5.20   2.00   0.00   4.40   6.10   9.50  12.30  13.70  16.12   \n",
            "805   11.70   9.20   6.00   4.40   0.00   2.00   5.40   8.20   9.60  12.02   \n",
            "806   13.40  10.90   7.70   6.10   2.00   0.00   3.80   6.60   8.00  10.42   \n",
            "807   16.90  14.30  11.10   9.50   5.40   3.80   0.00   2.90   4.30   6.82   \n",
            "808   19.60  17.10  13.90  12.30   8.20   6.60   2.90   0.00   1.70   4.12   \n",
            "809   21.00  18.50  15.30  13.70   9.60   8.00   4.30   1.70   0.00   2.92   \n",
            "821   23.52  20.92  17.72  16.12  12.02  10.42   6.82   4.12   2.92   0.00   \n",
            "822   24.67  22.07  18.87  17.27  13.17  11.57   7.97   5.27   4.07   1.80   \n",
            "823   26.53  23.93  20.73  19.13  15.03  13.43   9.83   7.13   5.93   3.67   \n",
            "824   27.92  25.32  22.12  20.52  16.42   7.80  11.22   8.52   7.32   5.06   \n",
            "825   29.08  26.48  23.28  21.68  17.58  15.98  12.38   9.68   8.48   6.22   \n",
            "826   30.87  28.27  25.07  23.47  19.37  17.77  14.17  11.47  10.27   8.01   \n",
            "827   32.53  29.93  26.73  25.13  21.03  19.43  15.83  13.13  11.93   9.43   \n",
            "829   36.32  33.72  30.52  28.92  24.82  23.22  19.62  16.92  15.72  13.26   \n",
            "830   38.27  35.67  32.47  30.87  26.77  25.17  21.57  18.87  17.67  15.17   \n",
            "831   39.24  36.64  33.44  31.84  27.74  26.14  22.54  19.84  18.64  16.15   \n",
            "\n",
            "id_2    822    823    824    825    826    827    829    830    831  \n",
            "id_1                                                                 \n",
            "801   24.67  26.53  27.92  29.08  30.87  32.53  36.32  38.27  39.24  \n",
            "802   22.07  23.93  25.32  26.48  28.27  29.93  33.72  35.67  36.64  \n",
            "803   18.87  20.73  22.12  23.28  25.07  26.73  30.52  32.47  33.44  \n",
            "804   17.27  19.13  20.52  21.68  23.47  25.13  28.92  30.87  31.84  \n",
            "805   13.17  15.03  16.42  17.58  19.37  21.03  24.82  26.77  27.74  \n",
            "806   11.57  13.43  14.82  15.98  17.77  19.43  23.22  25.17  26.14  \n",
            "807    7.97   9.83  11.22  12.38  14.17  15.83  19.62  21.57  22.54  \n",
            "808    5.27   7.13   8.52   9.68  11.47  13.13  16.92  18.87  19.84  \n",
            "809    4.07   5.93   7.32   8.48  10.27  11.93  15.72  17.67  18.64  \n",
            "821    1.80   3.67   5.06   6.22   8.01   9.43  13.26  15.17  16.15  \n",
            "822    0.00   2.21   3.60   4.76   6.55   8.00  11.81  13.74  14.68  \n",
            "823    2.21   0.00   1.79   2.94   4.74   6.15  10.00  11.89  12.87  \n",
            "824    3.60   1.79   0.00   1.71   3.50   4.92   8.77  10.66  11.64  \n",
            "825    4.76   2.94   1.71   0.00   2.20   3.65   7.46   9.35  10.33  \n",
            "826    6.55   4.74   3.50   2.20   0.00   2.05   5.81   7.71   8.69  \n",
            "827    8.00   6.15   4.92   3.65   2.05   0.00   4.14   6.06   7.04  \n",
            "829   11.81  10.00  21.40   7.46   5.81   4.14   0.00   2.38   3.36  \n",
            "830   13.74  11.89  10.66   0.00   7.71   6.06   2.38   0.00   1.39  \n",
            "831   14.68  12.87  11.64  10.33   8.69   7.04   3.36   1.39   0.00  \n"
          ]
        }
      ],
      "source": [
        "import pandas as pd\n",
        "\n",
        "# Assuming 'dataset-1.csv' is in the current directory\n",
        "def generate_car_matrix():\n",
        "    # Load dataset-1.csv into a DataFrame\n",
        "    df = pd.read_csv('dataset-1.csv')\n",
        "\n",
        "    # Pivot the DataFrame to create the matrix\n",
        "    car_matrix = df.pivot(index='id_1', columns='id_2', values='car').fillna(0)\n",
        "\n",
        "    # Replace diagonal values with 0\n",
        "    for idx in car_matrix.index:\n",
        "        car_matrix.loc[idx, idx] = 0\n",
        "\n",
        "    return car_matrix\n",
        "\n",
        "# Call the function to generate the car matrix\n",
        "result = generate_car_matrix()\n",
        "print(result)\n"
      ]
    },
    {
      "cell_type": "code",
      "source": [
        "import pandas as pd\n",
        "\n",
        "def get_type_count(df):\n",
        "    # Add a new categorical column 'car_type' based on 'car' column values\n",
        "    conditions = [\n",
        "        (df['car'] <= 15),\n",
        "        (df['car'] > 15) & (df['car'] <= 25),\n",
        "        (df['car'] > 25)\n",
        "    ]\n",
        "    choices = ['low', 'medium', 'high']\n",
        "    df['car_type'] = pd.Series(pd.cut(df['car'], bins=[-float('inf'), 15, 25, float('inf')], labels=choices))\n",
        "\n",
        "    # Calculate count of occurrences for each car_type category\n",
        "    type_counts = df['car_type'].value_counts().to_dict()\n",
        "\n",
        "    # Sort the dictionary alphabetically based on keys\n",
        "    sorted_counts = {k: type_counts[k] for k in sorted(type_counts)}\n",
        "\n",
        "    return sorted_counts\n",
        "\n",
        "# Load dataset-1.csv into a DataFrame\n",
        "df = pd.read_csv('dataset-1.csv')  # Replace 'dataset-1.csv' with the correct file path\n",
        "\n",
        "# Call the function to get the count of occurrences for each car_type category\n",
        "result = get_type_count(df)\n",
        "print(result)\n"
      ],
      "metadata": {
        "colab": {
          "base_uri": "https://localhost:8080/"
        },
        "id": "N69B_1PYTFBE",
        "outputId": "5bbe86c4-18e0-4167-e12d-af0a3ba32cbf"
      },
      "execution_count": null,
      "outputs": [
        {
          "output_type": "stream",
          "name": "stdout",
          "text": [
            "{'high': 56, 'low': 196, 'medium': 89}\n"
          ]
        }
      ]
    },
    {
      "cell_type": "code",
      "source": [
        "import pandas as pd\n",
        "\n",
        "def get_bus_indexes(df):\n",
        "    # Calculate the mean value of the 'bus' column\n",
        "    bus_mean = df['bus'].mean()\n",
        "\n",
        "    # Find indices where 'bus' values are greater than twice the mean\n",
        "    bus_indexes = df[df['bus'] > 2 * bus_mean].index.tolist()\n",
        "    bus_indexes.sort()  # Sort the indices in ascending order\n",
        "\n",
        "    return bus_indexes\n",
        "\n",
        "# Load dataset-1.csv into a DataFrame\n",
        "df = pd.read_csv('dataset-1.csv')  # Replace 'dataset-1.csv' with the correct file path\n",
        "\n",
        "# Call the function to get indices where 'bus' values are greater than twice the mean\n",
        "result = get_bus_indexes(df)\n",
        "print(result)\n"
      ],
      "metadata": {
        "colab": {
          "base_uri": "https://localhost:8080/"
        },
        "id": "OLaU4Z8bTFNV",
        "outputId": "f251811e-a51d-4295-89cb-2b4fc9c256a0"
      },
      "execution_count": null,
      "outputs": [
        {
          "output_type": "stream",
          "name": "stdout",
          "text": [
            "[2, 7, 12, 17, 25, 30, 54, 64, 70, 97, 144, 145, 149, 154, 160, 201, 206, 210, 215, 234, 235, 245, 250, 309, 314, 319, 322, 323, 334, 340]\n"
          ]
        }
      ]
    },
    {
      "cell_type": "code",
      "source": [
        "import pandas as pd\n",
        "\n",
        "def filter_routes(df):\n",
        "    # Grouping by 'route' column and calculating average of 'truck' column\n",
        "    route_avg_truck = df.groupby('route')['truck'].mean()\n",
        "\n",
        "    # Filtering routes where average of 'truck' column is greater than 7\n",
        "    filtered_routes = route_avg_truck[route_avg_truck > 7].index.tolist()\n",
        "\n",
        "    # Sorting the routes in ascending order\n",
        "    filtered_routes.sort()\n",
        "\n",
        "    return filtered_routes\n",
        "\n",
        "# Load dataset-1.csv into a DataFrame\n",
        "df = pd.read_csv('dataset-1.csv')  # Replace 'dataset-1.csv' with the correct file path\n",
        "\n",
        "# Call the function to get the sorted list of routes\n",
        "result = filter_routes(df)\n",
        "print(result)\n"
      ],
      "metadata": {
        "colab": {
          "base_uri": "https://localhost:8080/"
        },
        "id": "HuqWm-bwTFQ9",
        "outputId": "40d3963e-a256-4c10-c6b6-cb5397d076aa"
      },
      "execution_count": null,
      "outputs": [
        {
          "output_type": "stream",
          "name": "stdout",
          "text": [
            "[1, 2, 3, 4, 5, 6, 7, 8, 9, 10]\n"
          ]
        }
      ]
    },
    {
      "cell_type": "code",
      "source": [
        "import pandas as pd\n",
        "\n",
        "# Assuming 'resulting_dataframe' is a sample DataFrame obtained from Question 1\n",
        "resulting_dataframe = pd.DataFrame({\n",
        "    'A': [0, 10, 25, 30],\n",
        "    'B': [20, 15, 5, 22],\n",
        "    'C': [18, 23, 16, 12],\n",
        "    'D': [30, 14, 19, 27]\n",
        "}, index=['X', 'Y', 'Z', 'W'])\n",
        "\n",
        "def multiply_matrix(input_matrix):\n",
        "    # Apply the logic to modify values in the DataFrame\n",
        "    modified_matrix = input_matrix.copy()  # Create a copy of the input matrix\n",
        "\n",
        "    # Iterate through each value in the DataFrame and apply the logic\n",
        "    for idx in modified_matrix.index:\n",
        "        for col in modified_matrix.columns:\n",
        "            value = modified_matrix.loc[idx, col]\n",
        "            if value > 20:\n",
        "                modified_matrix.loc[idx, col] = round(value * 0.75, 1)\n",
        "            else:\n",
        "                modified_matrix.loc[idx, col] = round(value * 1.25, 1)\n",
        "\n",
        "    return modified_matrix\n",
        "\n",
        "# Call the function to modify the matrix values\n",
        "modified_result = multiply_matrix(resulting_dataframe)\n",
        "print(modified_result)\n"
      ],
      "metadata": {
        "colab": {
          "base_uri": "https://localhost:8080/"
        },
        "id": "nB9UkZBsTm7q",
        "outputId": "377b9be2-ad45-476c-86b6-21f601509ad4"
      },
      "execution_count": null,
      "outputs": [
        {
          "output_type": "stream",
          "name": "stdout",
          "text": [
            "      A     B     C     D\n",
            "X   0.0  25.0  22.5  22.5\n",
            "Y  12.5  18.8  17.2  17.5\n",
            "Z  18.8   6.2  20.0  23.8\n",
            "W  22.5  16.5  15.0  20.2\n"
          ]
        }
      ]
    },
    {
      "cell_type": "code",
      "source": [
        "import pandas as pd\n",
        "\n",
        "def verify_time_completeness(df):\n",
        "    try:\n",
        "        # Print unique values in the timestamp columns to check for anomalies\n",
        "        print(\"Unique startDay values:\", df['startDay'].unique())\n",
        "        print(\"Unique startTime values:\", df['startTime'].unique())\n",
        "        print(\"Unique endDay values:\", df['endDay'].unique())\n",
        "        print(\"Unique endTime values:\", df['endTime'].unique())\n",
        "\n",
        "        # Combine startDay and startTime, and endDay and endTime into datetime columns\n",
        "        df['start_datetime'] = pd.to_datetime(df['startDay'] + ' ' + df['startTime'], errors='coerce')\n",
        "        df['end_datetime'] = pd.to_datetime(df['endDay'] + ' ' + df['endTime'], errors='coerce')\n",
        "\n",
        "        # Drop rows with NaT (Not a Time) values after conversion\n",
        "        df.dropna(subset=['start_datetime', 'end_datetime'], how='any', inplace=True)\n",
        "\n",
        "        # Calculate time differences and extract day of the week\n",
        "        df['time_diff'] = df['end_datetime'] - df['start_datetime']\n",
        "        df['day_of_week'] = df['start_datetime'].dt.day_name()\n",
        "\n",
        "        # Group by 'id' and 'id_2', check if the pair covers a full 24-hour period and all 7 days\n",
        "        completeness_check = df.groupby(['id', 'id_2'], group_keys=False).apply(\n",
        "            lambda x: (x['time_diff'].max() >= pd.Timedelta(days=1) - pd.Timedelta(seconds=1)) and\n",
        "                      set(x['day_of_week']) == set(['Monday', 'Tuesday', 'Wednesday', 'Thursday', 'Friday', 'Saturday', 'Sunday'])\n",
        "        )\n",
        "\n",
        "        return completeness_check\n",
        "\n",
        "    except Exception as e:\n",
        "        print(f\"Error: {e}\")\n",
        "        return pd.Series()  # Return an empty Series if an error occurs\n",
        "\n",
        "# Load dataset-2.csv into a DataFrame\n",
        "df = pd.read_csv('dataset-2.csv')  # Replace 'dataset-2.csv' with the correct file path\n",
        "\n",
        "# Call the function to verify time completeness for each (id, id_2) pair\n",
        "time_completeness = verify_time_completeness(df)\n",
        "print(time_completeness)\n"
      ],
      "metadata": {
        "colab": {
          "base_uri": "https://localhost:8080/"
        },
        "id": "fzBkP2HrWX1P",
        "outputId": "a182f0d4-bfd2-42f1-b460-b24da65693fa"
      },
      "execution_count": null,
      "outputs": [
        {
          "output_type": "stream",
          "name": "stdout",
          "text": [
            "Unique startDay values: ['Monday' 'Thursday' 'Saturday' 'Tuesday' 'Wednesday']\n",
            "Unique startTime values: ['05:00:00' '10:00:00' '15:00:00' '19:00:00' '00:00:00']\n",
            "Unique endDay values: ['Wednesday' 'Friday' 'Sunday' 'Saturday' 'Tuesday']\n",
            "Unique endTime values: ['10:00:00' '15:00:00' '19:00:00' '23:59:59' '05:00:00']\n",
            "Empty DataFrame\n",
            "Columns: [id, name, id_2, startDay, startTime, endDay, endTime, able2Hov2, able2Hov3, able3Hov2, able3Hov3, able5Hov2, able5Hov3, able4Hov2, able4Hov3, start_datetime, end_datetime, time_diff, day_of_week]\n",
            "Index: []\n"
          ]
        }
      ]
    }
  ]
}